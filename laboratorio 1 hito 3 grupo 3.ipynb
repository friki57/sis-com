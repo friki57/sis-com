{
 "cells": [
  {
   "cell_type": "code",
   "execution_count": null,
   "metadata": {},
   "outputs": [],
   "source": []
  },
  {
   "cell_type": "code",
   "execution_count": null,
   "metadata": {},
   "outputs": [],
   "source": []
  },
  {
   "cell_type": "code",
   "execution_count": 13,
   "metadata": {},
   "outputs": [
    {
     "name": "stdout",
     "output_type": "stream",
     "text": [
      "Requirement already satisfied: twilio==5.7.0 in c:\\users\\meldu\\anaconda3\\lib\\site-packages (5.7.0)\n",
      "Requirement already satisfied: httplib2>=0.7 in c:\\users\\meldu\\anaconda3\\lib\\site-packages (from twilio==5.7.0) (0.12.1)\n",
      "Requirement already satisfied: six in c:\\users\\meldu\\anaconda3\\lib\\site-packages (from twilio==5.7.0) (1.12.0)\n",
      "Requirement already satisfied: pytz in c:\\users\\meldu\\anaconda3\\lib\\site-packages (from twilio==5.7.0) (2018.7)\n",
      "Requirement already satisfied: pysocks in c:\\users\\meldu\\anaconda3\\lib\\site-packages (from twilio==5.7.0) (1.6.8)\n"
     ]
    }
   ],
   "source": [
    "!pip install twilio==5.7.0"
   ]
  },
  {
   "cell_type": "code",
   "execution_count": 14,
   "metadata": {},
   "outputs": [],
   "source": [
    "from twilio.rest import TwilioRestClient"
   ]
  },
  {
   "cell_type": "code",
   "execution_count": 19,
   "metadata": {},
   "outputs": [],
   "source": [
    "TWILIO_PHONE_NUMBER = \"+12063503176\""
   ]
  },
  {
   "cell_type": "code",
   "execution_count": 20,
   "metadata": {},
   "outputs": [],
   "source": [
    "DIAL_NUMBERS = [\"+59177404206\"]"
   ]
  },
  {
   "cell_type": "code",
   "execution_count": 33,
   "metadata": {},
   "outputs": [],
   "source": [
    "TWIML_INSTRUCTIONS_URL = \\\n",
    "\"https://vidaenred.org/llamada-Sist_Com.xml\""
   ]
  },
  {
   "cell_type": "code",
   "execution_count": 34,
   "metadata": {},
   "outputs": [],
   "source": [
    "client = TwilioRestClient(\"AC5948ff8958e1427bfeea1863a7acc6ba\", \"20548616cab2c08a573135b15dd85f3a\")"
   ]
  },
  {
   "cell_type": "code",
   "execution_count": 58,
   "metadata": {},
   "outputs": [],
   "source": [
    "def dial_numbers(numbers_list):\n",
    "    for number in numbers_list:\n",
    "        print(\"Llamando \" + number)\n",
    "        client.calls.create(to=number, from_=TWILIO_PHONE_NUMBER, url=TWIML_INSTRUCTIONS_URL, method=\"GET\")"
   ]
  },
  {
   "cell_type": "code",
   "execution_count": 59,
   "metadata": {},
   "outputs": [
    {
     "name": "stdout",
     "output_type": "stream",
     "text": [
      "Llamando +59177404206\n"
     ]
    }
   ],
   "source": [
    "if __name__ == \"__main__\":\n",
    "    dial_numbers(DIAL_NUMBERS)"
   ]
  },
  {
   "cell_type": "code",
   "execution_count": null,
   "metadata": {},
   "outputs": [],
   "source": [
    "¿Explica para que sirve el archivo https://vidaenred.org/llamada-Sist_Com.xml”?\n",
    "    sirve para definir cual voz utilizará y que mensaje emitirá a la hora de ejecutar la llamada\n",
    "¿Para qué sirve la librería Twilio?\n",
    "    PARA CONECTARSE CON LOS SERVIDORES DE TWILIO PARA REALIZAR LLAMADAS Y ENVIAR MENSAJES\n",
    "Explica esta función:def dial_numbers(numbers_list):\n",
    "        sirve para recorrer el arreglo de numeros y realizar llamadas a cada uno enviandole los numeros definidos anteriormente"
   ]
  },
  {
   "cell_type": "code",
   "execution_count": null,
   "metadata": {},
   "outputs": [],
   "source": []
  },
  {
   "cell_type": "code",
   "execution_count": null,
   "metadata": {},
   "outputs": [],
   "source": []
  }
 ],
 "metadata": {
  "kernelspec": {
   "display_name": "Python 3",
   "language": "python",
   "name": "python3"
  },
  "language_info": {
   "codemirror_mode": {
    "name": "ipython",
    "version": 3
   },
   "file_extension": ".py",
   "mimetype": "text/x-python",
   "name": "python",
   "nbconvert_exporter": "python",
   "pygments_lexer": "ipython3",
   "version": "3.7.1"
  }
 },
 "nbformat": 4,
 "nbformat_minor": 2
}
